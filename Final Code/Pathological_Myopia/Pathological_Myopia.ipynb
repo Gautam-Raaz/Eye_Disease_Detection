{
  "nbformat": 4,
  "nbformat_minor": 0,
  "metadata": {
    "colab": {
      "provenance": [],
      "gpuType": "T4"
    },
    "kernelspec": {
      "name": "python3",
      "display_name": "Python 3"
    },
    "language_info": {
      "name": "python"
    },
    "accelerator": "GPU"
  },
  "cells": [
    {
      "cell_type": "code",
      "source": [
        "import tensorflow as tf\n",
        "from tensorflow.keras.applications import VGG16\n",
        "from tensorflow.keras.models import Model\n",
        "from tensorflow.keras.layers import GlobalAveragePooling2D, Dense\n",
        "from tensorflow.keras.models import Model\n",
        "from tensorflow.keras.optimizers import Adam\n",
        "import gdown\n",
        "import os\n",
        "import zipfile\n",
        "from tensorflow.keras.preprocessing.image import ImageDataGenerator\n",
        "from tensorflow.keras.models import Sequential\n",
        "from tensorflow.keras.layers import Conv2D, MaxPooling2D, Dense, Dropout, BatchNormalization, GlobalAveragePooling2D\n",
        "from tensorflow.keras.callbacks import ModelCheckpoint"
      ],
      "metadata": {
        "id": "uQxt9St-XLQ7"
      },
      "execution_count": null,
      "outputs": []
    },
    {
      "cell_type": "code",
      "execution_count": null,
      "metadata": {
        "colab": {
          "base_uri": "https://localhost:8080/"
        },
        "id": "20GeBycbWTQl",
        "outputId": "299fc012-01ef-4f0d-d877-bae7c153f022"
      },
      "outputs": [
        {
          "output_type": "stream",
          "name": "stderr",
          "text": [
            "Downloading...\n",
            "From (original): https://drive.google.com/uc?id=1QwItNnETzlWHgZ89EbHFYg04ijkDszF6\n",
            "From (redirected): https://drive.google.com/uc?id=1QwItNnETzlWHgZ89EbHFYg04ijkDszF6&confirm=t&uuid=effce612-230e-4675-b88d-127904889a07\n",
            "To: /content/disease.zip\n",
            "100%|██████████| 3.85G/3.85G [01:06<00:00, 58.2MB/s]\n"
          ]
        }
      ],
      "source": [
        "# Google Drive file URL\n",
        "file_url = \"https://drive.google.com/uc?id=1vHCvd9ZFkY9lfNwUnnMUbDQZjjpby8lv\"\n",
        "\n",
        "# Specify the output file path (the path where you want to save the file)\n",
        "output_file = \"disease.zip\"  # Replace with actual file name\n",
        "\n",
        "# Download the file\n",
        "gdown.download(file_url, output_file, quiet=False)\n",
        "\n",
        "zip_file = \"disease.zip\"  # Name of the downloaded file\n",
        "\n",
        "# Make sure output directory exists\n",
        "output_dir = \"/content/extracted_file\"\n",
        "os.makedirs(output_dir, exist_ok=True)\n",
        "\n",
        "# Extract the contents\n",
        "with zipfile.ZipFile(zip_file, 'r') as zip_ref:\n",
        "    zip_ref.extractall(output_dir)"
      ]
    },
    {
      "cell_type": "code",
      "source": [
        "# Path to main train folder that has many class folders\n",
        "data_dir = \"/content/extracted_file/Retinal Fundus Images - Copy/train\"\n",
        "\n",
        "# Specify the exact classes you want to include\n",
        "target_classes = ['Pathological_Myopia', 'Normal_Fundus']\n",
        "\n",
        "# Image settings\n",
        "IMG_SIZE = (224, 224)\n",
        "BATCH_SIZE = 32\n",
        "\n",
        "# Create generators with only selected classes\n",
        "datagen = ImageDataGenerator(rescale=1./255, validation_split=0.1)\n",
        "\n",
        "train_generator = datagen.flow_from_directory(\n",
        "    data_dir,\n",
        "    target_size=IMG_SIZE,\n",
        "    batch_size=BATCH_SIZE,\n",
        "    classes=target_classes,\n",
        "    class_mode='sparse',\n",
        "    subset='training',\n",
        "    shuffle=True\n",
        ")\n",
        "\n",
        "val_generator = datagen.flow_from_directory(\n",
        "    data_dir,\n",
        "    target_size=IMG_SIZE,\n",
        "    batch_size=BATCH_SIZE,\n",
        "    classes=target_classes,\n",
        "    class_mode='sparse',\n",
        "    subset='validation',\n",
        "    shuffle=False\n",
        ")\n",
        "\n",
        "# Load VGG16 without top layers\n",
        "base_model = VGG16(weights='imagenet', include_top=False, input_shape=(224, 224, 3))\n",
        "\n",
        "# Add classification head\n",
        "x = GlobalAveragePooling2D()(base_model.output)\n",
        "x = Dense(128, activation='relu')(x)\n",
        "output = Dense(2, activation='softmax')(x)  # 2 classes (softmax)\n",
        "\n",
        "model = Model(inputs=base_model.input, outputs=output)\n",
        "\n",
        "# Fine-tune last few layers of VGG16\n",
        "for layer in base_model.layers[:-10]:\n",
        "    layer.trainable = False\n",
        "for layer in base_model.layers[-10:]:\n",
        "    layer.trainable = True\n",
        "\n",
        "# Compile the model\n",
        "model.compile(\n",
        "    optimizer=Adam(learning_rate=1e-4),\n",
        "    loss='sparse_categorical_crossentropy',\n",
        "    metrics=['accuracy']\n",
        ")\n",
        "\n",
        "# Train the model\n",
        "model.fit(\n",
        "    train_generator,\n",
        "    validation_data=val_generator,\n",
        "    epochs=5,\n",
        ")"
      ],
      "metadata": {
        "colab": {
          "base_uri": "https://localhost:8080/"
        },
        "id": "qvsCxrhyWaWY",
        "outputId": "5a66ab16-8c51-4602-86f6-71a5c478f6fa"
      },
      "execution_count": null,
      "outputs": [
        {
          "output_type": "stream",
          "name": "stdout",
          "text": [
            "Found 17024 images belonging to 2 classes.\n",
            "Found 1891 images belonging to 2 classes.\n",
            "Epoch 1/5\n",
            "\u001b[1m532/532\u001b[0m \u001b[32m━━━━━━━━━━━━━━━━━━━━\u001b[0m\u001b[37m\u001b[0m \u001b[1m198s\u001b[0m 319ms/step - accuracy: 0.9552 - loss: 0.1007 - val_accuracy: 0.9820 - val_loss: 0.0382\n",
            "Epoch 2/5\n",
            "\u001b[1m532/532\u001b[0m \u001b[32m━━━━━━━━━━━━━━━━━━━━\u001b[0m\u001b[37m\u001b[0m \u001b[1m162s\u001b[0m 305ms/step - accuracy: 0.9895 - loss: 0.0297 - val_accuracy: 0.9894 - val_loss: 0.0246\n",
            "Epoch 3/5\n",
            "\u001b[1m532/532\u001b[0m \u001b[32m━━━━━━━━━━━━━━━━━━━━\u001b[0m\u001b[37m\u001b[0m \u001b[1m203s\u001b[0m 306ms/step - accuracy: 0.9969 - loss: 0.0087 - val_accuracy: 0.9984 - val_loss: 0.0146\n",
            "Epoch 4/5\n",
            "\u001b[1m532/532\u001b[0m \u001b[32m━━━━━━━━━━━━━━━━━━━━\u001b[0m\u001b[37m\u001b[0m \u001b[1m162s\u001b[0m 304ms/step - accuracy: 0.9954 - loss: 0.0103 - val_accuracy: 0.9995 - val_loss: 0.0079\n",
            "Epoch 5/5\n",
            "\u001b[1m532/532\u001b[0m \u001b[32m━━━━━━━━━━━━━━━━━━━━\u001b[0m\u001b[37m\u001b[0m \u001b[1m162s\u001b[0m 304ms/step - accuracy: 0.9996 - loss: 0.0011 - val_accuracy: 0.9995 - val_loss: 0.0022\n"
          ]
        },
        {
          "output_type": "execute_result",
          "data": {
            "text/plain": [
              "<keras.src.callbacks.history.History at 0x7d93719bc150>"
            ]
          },
          "metadata": {},
          "execution_count": 14
        }
      ]
    },
    {
      "cell_type": "code",
      "source": [
        "model.save(\"Pathological_Myopia.keras\")"
      ],
      "metadata": {
        "id": "gbJlJ-ebdxc7"
      },
      "execution_count": null,
      "outputs": []
    }
  ]
}