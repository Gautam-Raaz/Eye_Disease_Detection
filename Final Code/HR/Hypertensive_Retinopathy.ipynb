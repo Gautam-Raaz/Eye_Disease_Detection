{
  "nbformat": 4,
  "nbformat_minor": 0,
  "metadata": {
    "colab": {
      "provenance": []
    },
    "kernelspec": {
      "name": "python3",
      "display_name": "Python 3"
    },
    "language_info": {
      "name": "python"
    }
  },
  "cells": [
    {
      "cell_type": "code",
      "source": [
        "import os\n",
        "import tensorflow as tf\n",
        "from tensorflow.keras.applications import ResNet50\n",
        "from tensorflow.keras.models import Model\n",
        "from tensorflow.keras.layers import Dense, GlobalAveragePooling2D\n",
        "from tensorflow.keras.preprocessing.image import ImageDataGenerator\n",
        "from tensorflow.keras.callbacks import Callback\n",
        "import zipfile\n",
        "import os\n",
        "import gdown"
      ],
      "metadata": {
        "id": "vsULd2Ir9NAr"
      },
      "execution_count": null,
      "outputs": []
    },
    {
      "cell_type": "code",
      "execution_count": null,
      "metadata": {
        "id": "VYgF-qMu89M0",
        "colab": {
          "base_uri": "https://localhost:8080/"
        },
        "outputId": "8545bd93-996d-4fb3-d7c1-f00e88edcc59"
      },
      "outputs": [
        {
          "output_type": "stream",
          "name": "stderr",
          "text": [
            "Downloading...\n",
            "From (original): https://drive.google.com/uc?id=1NfuMblbAumQHfcuJAQCMFA4gR8gf0F8F\n",
            "From (redirected): https://drive.google.com/uc?id=1NfuMblbAumQHfcuJAQCMFA4gR8gf0F8F&confirm=t&uuid=7d9e833d-d983-4527-b135-53479e8ef84d\n",
            "To: /content/disease.zip\n",
            "100%|██████████| 3.85G/3.85G [00:21<00:00, 180MB/s]\n"
          ]
        }
      ],
      "source": [
        "# Google Drive file URL\n",
        "file_url = \"https://drive.google.com/uc?id=1vHCvd9ZFkY9lfNwUnnMUbDQZjjpby8lv\"\n",
        "\n",
        "# Specify the output file path (the path where you want to save the file)\n",
        "output_file = \"disease.zip\"  # Replace with actual file name\n",
        "\n",
        "# Download the file\n",
        "gdown.download(file_url, output_file, quiet=False)\n",
        "\n",
        "zip_file = \"disease.zip\"  # Name of the downloaded file\n",
        "\n",
        "# Make sure output directory exists\n",
        "output_dir = \"/content/extracted_file\"\n",
        "os.makedirs(output_dir, exist_ok=True)\n",
        "\n",
        "# Extract the contents\n",
        "with zipfile.ZipFile(zip_file, 'r') as zip_ref:\n",
        "    zip_ref.extractall(output_dir)"
      ]
    },
    {
      "cell_type": "code",
      "source": [
        "# Path to main train folder that has many class folders\n",
        "data_dir = \"/content/extracted_file/Retinal Fundus Images - Copy/train\"\n",
        "\n",
        "# Specify the exact classes you want to include\n",
        "target_classes = ['Hypertensive_Retinopathy', 'Normal_Fundus']\n",
        "\n",
        "# Image settings\n",
        "IMG_SIZE = (224, 224)\n",
        "BATCH_SIZE = 32\n",
        "\n",
        "# Create generators with only selected classes\n",
        "datagen = ImageDataGenerator(rescale=1./255, validation_split=0.1)\n",
        "\n",
        "train_generator = datagen.flow_from_directory(\n",
        "    data_dir,\n",
        "    target_size=IMG_SIZE,\n",
        "    batch_size=BATCH_SIZE,\n",
        "    classes=target_classes,\n",
        "    class_mode='sparse',\n",
        "    subset='training',\n",
        "    shuffle=True\n",
        ")\n",
        "\n",
        "val_generator = datagen.flow_from_directory(\n",
        "    data_dir,\n",
        "    target_size=IMG_SIZE,\n",
        "    batch_size=BATCH_SIZE,\n",
        "    classes=target_classes,\n",
        "    class_mode='sparse',\n",
        "    subset='validation',\n",
        "    shuffle=False\n",
        ")\n",
        "\n",
        "\n",
        "# Build ResNet50-based model\n",
        "base_model = ResNet50(weights='imagenet', include_top=False, input_shape=(224, 224, 3))\n",
        "x = GlobalAveragePooling2D()(base_model.output)\n",
        "x = Dense(128, activation='relu')(x)\n",
        "output = Dense(2, activation='softmax')(x)\n",
        "\n",
        "model = Model(inputs=base_model.input, outputs=output)\n",
        "\n",
        "# Fine-tune last 30 layers of ResNet50\n",
        "for layer in base_model.layers[:-45]:\n",
        "    layer.trainable = False\n",
        "for layer in base_model.layers[-45:]:\n",
        "    layer.trainable = True\n",
        "\n",
        "# Compile with smaller learning rate for fine-tuning\n",
        "model.compile(optimizer='adam', loss='sparse_categorical_crossentropy', metrics=['accuracy'])\n",
        "\n",
        "\n",
        "\n",
        "# Train the model\n",
        "model.fit(\n",
        "    train_generator,\n",
        "    validation_data=val_generator,\n",
        "    epochs=10,\n",
        ")"
      ],
      "metadata": {
        "id": "2xoSY0qo9T21",
        "colab": {
          "base_uri": "https://localhost:8080/"
        },
        "outputId": "d4f5f32a-a13a-46f4-b63d-8f09940f09e0"
      },
      "execution_count": null,
      "outputs": [
        {
          "output_type": "stream",
          "name": "stdout",
          "text": [
            "Found 17375 images belonging to 2 classes.\n",
            "Found 1930 images belonging to 2 classes.\n",
            "Downloading data from https://storage.googleapis.com/tensorflow/keras-applications/resnet/resnet50_weights_tf_dim_ordering_tf_kernels_notop.h5\n",
            "\u001b[1m94765736/94765736\u001b[0m \u001b[32m━━━━━━━━━━━━━━━━━━━━\u001b[0m\u001b[37m\u001b[0m \u001b[1m0s\u001b[0m 0us/step\n"
          ]
        },
        {
          "output_type": "stream",
          "name": "stderr",
          "text": [
            "/usr/local/lib/python3.11/dist-packages/keras/src/trainers/data_adapters/py_dataset_adapter.py:121: UserWarning: Your `PyDataset` class should call `super().__init__(**kwargs)` in its constructor. `**kwargs` can include `workers`, `use_multiprocessing`, `max_queue_size`. Do not pass these arguments to `fit()`, as they will be ignored.\n",
            "  self._warn_if_super_not_called()\n"
          ]
        },
        {
          "output_type": "stream",
          "name": "stdout",
          "text": [
            "Epoch 1/10\n",
            "\u001b[1m543/543\u001b[0m \u001b[32m━━━━━━━━━━━━━━━━━━━━\u001b[0m\u001b[37m\u001b[0m \u001b[1m123s\u001b[0m 177ms/step - accuracy: 0.7544 - loss: 0.4942 - val_accuracy: 0.8477 - val_loss: 0.3256\n",
            "Epoch 2/10\n",
            "\u001b[1m543/543\u001b[0m \u001b[32m━━━━━━━━━━━━━━━━━━━━\u001b[0m\u001b[37m\u001b[0m \u001b[1m81s\u001b[0m 149ms/step - accuracy: 0.8735 - loss: 0.2990 - val_accuracy: 0.7865 - val_loss: 0.4818\n",
            "Epoch 3/10\n",
            "\u001b[1m543/543\u001b[0m \u001b[32m━━━━━━━━━━━━━━━━━━━━\u001b[0m\u001b[37m\u001b[0m \u001b[1m81s\u001b[0m 148ms/step - accuracy: 0.9062 - loss: 0.2337 - val_accuracy: 0.9161 - val_loss: 0.1868\n",
            "Epoch 4/10\n",
            "\u001b[1m543/543\u001b[0m \u001b[32m━━━━━━━━━━━━━━━━━━━━\u001b[0m\u001b[37m\u001b[0m \u001b[1m81s\u001b[0m 149ms/step - accuracy: 0.9299 - loss: 0.1836 - val_accuracy: 0.7487 - val_loss: 0.7361\n",
            "Epoch 5/10\n",
            "\u001b[1m543/543\u001b[0m \u001b[32m━━━━━━━━━━━━━━━━━━━━\u001b[0m\u001b[37m\u001b[0m \u001b[1m81s\u001b[0m 148ms/step - accuracy: 0.9406 - loss: 0.1512 - val_accuracy: 0.8870 - val_loss: 0.2539\n",
            "Epoch 6/10\n",
            "\u001b[1m543/543\u001b[0m \u001b[32m━━━━━━━━━━━━━━━━━━━━\u001b[0m\u001b[37m\u001b[0m \u001b[1m81s\u001b[0m 149ms/step - accuracy: 0.9539 - loss: 0.1238 - val_accuracy: 0.8067 - val_loss: 0.5855\n",
            "Epoch 7/10\n",
            "\u001b[1m543/543\u001b[0m \u001b[32m━━━━━━━━━━━━━━━━━━━━\u001b[0m\u001b[37m\u001b[0m \u001b[1m81s\u001b[0m 148ms/step - accuracy: 0.9656 - loss: 0.0915 - val_accuracy: 0.9026 - val_loss: 0.2266\n",
            "Epoch 8/10\n",
            "\u001b[1m543/543\u001b[0m \u001b[32m━━━━━━━━━━━━━━━━━━━━\u001b[0m\u001b[37m\u001b[0m \u001b[1m81s\u001b[0m 149ms/step - accuracy: 0.9729 - loss: 0.0752 - val_accuracy: 0.9275 - val_loss: 0.1702\n",
            "Epoch 9/10\n",
            "\u001b[1m543/543\u001b[0m \u001b[32m━━━━━━━━━━━━━━━━━━━━\u001b[0m\u001b[37m\u001b[0m \u001b[1m85s\u001b[0m 156ms/step - accuracy: 0.9736 - loss: 0.0709 - val_accuracy: 0.8886 - val_loss: 0.2914\n",
            "Epoch 10/10\n",
            "\u001b[1m543/543\u001b[0m \u001b[32m━━━━━━━━━━━━━━━━━━━━\u001b[0m\u001b[37m\u001b[0m \u001b[1m80s\u001b[0m 148ms/step - accuracy: 0.9771 - loss: 0.0614 - val_accuracy: 0.8943 - val_loss: 0.3048\n"
          ]
        },
        {
          "output_type": "execute_result",
          "data": {
            "text/plain": [
              "<keras.src.callbacks.history.History at 0x78bfa8a02d50>"
            ]
          },
          "metadata": {},
          "execution_count": 5
        }
      ]
    },
    {
      "cell_type": "code",
      "source": [
        "model.save(\"Hypertensive_Retinopathy.keras\")"
      ],
      "metadata": {
        "id": "S8Kwi27fC-XN"
      },
      "execution_count": null,
      "outputs": []
    }
  ]
}