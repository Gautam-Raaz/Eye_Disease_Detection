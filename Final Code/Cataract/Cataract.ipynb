{
  "cells": [
    {
      "cell_type": "code",
      "execution_count": 2,
      "metadata": {
        "id": "stRa5rwUpku6"
      },
      "outputs": [],
      "source": [
        "from tensorflow.keras.preprocessing.image import ImageDataGenerator\n",
        "from tensorflow.keras.models import Sequential\n",
        "from tensorflow.keras.layers import Conv2D, MaxPooling2D, Dense, Dropout, BatchNormalization, GlobalAveragePooling2D\n",
        "from tensorflow.keras.callbacks import ModelCheckpoint\n",
        "import gdown\n",
        "import os\n",
        "import zipfile"
      ]
    },
    {
      "cell_type": "code",
      "execution_count": null,
      "metadata": {
        "colab": {
          "base_uri": "https://localhost:8080/"
        },
        "id": "kR1-BxPB4-wU",
        "outputId": "eec975a6-430a-42a4-d826-fabefb7195a2"
      },
      "outputs": [
        {
          "name": "stderr",
          "output_type": "stream",
          "text": [
            "Downloading...\n",
            "From (original): https://drive.google.com/uc?id=1NfuMblbAumQHfcuJAQCMFA4gR8gf0F8F\n",
            "From (redirected): https://drive.google.com/uc?id=1NfuMblbAumQHfcuJAQCMFA4gR8gf0F8F&confirm=t&uuid=1907dffb-f56a-460e-a307-831df4086600\n",
            "To: /content/disease.zip\n",
            "100%|██████████| 3.85G/3.85G [00:56<00:00, 68.1MB/s]\n"
          ]
        }
      ],
      "source": [
        "#Google Drive file URL\n",
        "file_url = \"https://drive.google.com/uc?id=1vHCvd9ZFkY9lfNwUnnMUbDQZjjpby8lv\"\n",
        "\n",
        "#Specify the output file path (the path where you want to save the file)\n",
        "output_file = \"disease.zip\"  # Replace with actual file name\n",
        "\n",
        "#Download the file\n",
        "gdown.download(file_url, output_file, quiet=False)\n",
        "\n",
        "zip_file = \"disease.zip\"  # Name of the downloaded file\n",
        "\n",
        "#Make sure output directory exists\n",
        "output_dir = \"/content/extracted_file\"\n",
        "os.makedirs(output_dir, exist_ok=True)\n",
        "\n",
        "#Extract the contents\n",
        "with zipfile.ZipFile(zip_file, 'r') as zip_ref:\n",
        "    zip_ref.extractall(output_dir)"
      ]
    },
    {
      "cell_type": "code",
      "execution_count": null,
      "metadata": {
        "colab": {
          "base_uri": "https://localhost:8080/"
        },
        "id": "HWsAWl7C6jKq",
        "outputId": "bfa7f359-4122-4709-a167-a9598680e065"
      },
      "outputs": [
        {
          "name": "stdout",
          "output_type": "stream",
          "text": [
            "Found 18046 images belonging to 2 classes.\n",
            "Found 2004 images belonging to 2 classes.\n"
          ]
        },
        {
          "name": "stderr",
          "output_type": "stream",
          "text": [
            "/usr/local/lib/python3.11/dist-packages/keras/src/layers/convolutional/base_conv.py:107: UserWarning: Do not pass an `input_shape`/`input_dim` argument to a layer. When using Sequential models, prefer using an `Input(shape)` object as the first layer in the model instead.\n",
            "  super().__init__(activity_regularizer=activity_regularizer, **kwargs)\n",
            "/usr/local/lib/python3.11/dist-packages/keras/src/trainers/data_adapters/py_dataset_adapter.py:121: UserWarning: Your `PyDataset` class should call `super().__init__(**kwargs)` in its constructor. `**kwargs` can include `workers`, `use_multiprocessing`, `max_queue_size`. Do not pass these arguments to `fit()`, as they will be ignored.\n",
            "  self._warn_if_super_not_called()\n"
          ]
        },
        {
          "name": "stdout",
          "output_type": "stream",
          "text": [
            "Epoch 1/10\n",
            "\u001b[1m564/564\u001b[0m \u001b[32m━━━━━━━━━━━━━━━━━━━━\u001b[0m\u001b[37m\u001b[0m \u001b[1m134s\u001b[0m 199ms/step - accuracy: 0.8890 - loss: 0.3131 - val_accuracy: 0.3413 - val_loss: 7.1328\n",
            "Epoch 2/10\n",
            "\u001b[1m564/564\u001b[0m \u001b[32m━━━━━━━━━━━━━━━━━━━━\u001b[0m\u001b[37m\u001b[0m \u001b[1m84s\u001b[0m 148ms/step - accuracy: 0.9553 - loss: 0.1143 - val_accuracy: 0.9810 - val_loss: 0.0563\n",
            "Epoch 3/10\n",
            "\u001b[1m564/564\u001b[0m \u001b[32m━━━━━━━━━━━━━━━━━━━━\u001b[0m\u001b[37m\u001b[0m \u001b[1m83s\u001b[0m 147ms/step - accuracy: 0.9686 - loss: 0.0810 - val_accuracy: 0.9711 - val_loss: 0.0638\n",
            "Epoch 4/10\n",
            "\u001b[1m564/564\u001b[0m \u001b[32m━━━━━━━━━━━━━━━━━━━━\u001b[0m\u001b[37m\u001b[0m \u001b[1m83s\u001b[0m 148ms/step - accuracy: 0.9788 - loss: 0.0624 - val_accuracy: 0.7191 - val_loss: 1.0254\n",
            "Epoch 5/10\n",
            "\u001b[1m564/564\u001b[0m \u001b[32m━━━━━━━━━━━━━━━━━━━━\u001b[0m\u001b[37m\u001b[0m \u001b[1m83s\u001b[0m 146ms/step - accuracy: 0.9802 - loss: 0.0528 - val_accuracy: 0.9930 - val_loss: 0.0232\n",
            "Epoch 6/10\n",
            "\u001b[1m564/564\u001b[0m \u001b[32m━━━━━━━━━━━━━━━━━━━━\u001b[0m\u001b[37m\u001b[0m \u001b[1m147s\u001b[0m 155ms/step - accuracy: 0.9842 - loss: 0.0491 - val_accuracy: 0.9616 - val_loss: 0.0830\n",
            "Epoch 7/10\n",
            "\u001b[1m564/564\u001b[0m \u001b[32m━━━━━━━━━━━━━━━━━━━━\u001b[0m\u001b[37m\u001b[0m \u001b[1m83s\u001b[0m 147ms/step - accuracy: 0.9839 - loss: 0.0472 - val_accuracy: 0.9915 - val_loss: 0.0218\n",
            "Epoch 8/10\n",
            "\u001b[1m564/564\u001b[0m \u001b[32m━━━━━━━━━━━━━━━━━━━━\u001b[0m\u001b[37m\u001b[0m \u001b[1m82s\u001b[0m 146ms/step - accuracy: 0.9850 - loss: 0.0397 - val_accuracy: 0.7745 - val_loss: 0.7463\n",
            "Epoch 9/10\n",
            "\u001b[1m564/564\u001b[0m \u001b[32m━━━━━━━━━━━━━━━━━━━━\u001b[0m\u001b[37m\u001b[0m \u001b[1m147s\u001b[0m 155ms/step - accuracy: 0.9880 - loss: 0.0349 - val_accuracy: 0.9207 - val_loss: 0.3066\n",
            "Epoch 10/10\n",
            "\u001b[1m564/564\u001b[0m \u001b[32m━━━━━━━━━━━━━━━━━━━━\u001b[0m\u001b[37m\u001b[0m \u001b[1m84s\u001b[0m 149ms/step - accuracy: 0.9868 - loss: 0.0357 - val_accuracy: 0.9736 - val_loss: 0.1714\n",
            "\u001b[1m63/63\u001b[0m \u001b[32m━━━━━━━━━━━━━━━━━━━━\u001b[0m\u001b[37m\u001b[0m \u001b[1m5s\u001b[0m 85ms/step - accuracy: 0.9513 - loss: 0.2998\n",
            "Validation Accuracy: 97.36%\n"
          ]
        }
      ],
      "source": [
        "#Path to main train folder that has many class folders\n",
        "data_dir = \"/content/extracted_file/Retinal Fundus Images - Copy/train\"\n",
        "\n",
        "#Specify the exact classes you want to include\n",
        "target_classes = ['Cataract', 'Normal_Fundus']\n",
        "\n",
        "#Image settings\n",
        "IMG_SIZE = (224, 224)\n",
        "BATCH_SIZE = 32\n",
        "\n",
        "#Create generators with only selected classes\n",
        "datagen = ImageDataGenerator(rescale=1./255, validation_split=0.1)\n",
        "\n",
        "train_generator = datagen.flow_from_directory(\n",
        "    data_dir,\n",
        "    target_size=IMG_SIZE,\n",
        "    batch_size=BATCH_SIZE,\n",
        "    classes=target_classes,  #This filters folders\n",
        "    class_mode='sparse',\n",
        "    subset='training',\n",
        "    shuffle=True\n",
        ")\n",
        "\n",
        "val_generator = datagen.flow_from_directory(\n",
        "    data_dir,\n",
        "    target_size=IMG_SIZE,\n",
        "    batch_size=BATCH_SIZE,\n",
        "    classes=target_classes,  #This filters folders\n",
        "    class_mode='sparse',\n",
        "    subset='validation',\n",
        "    shuffle=False\n",
        ")\n",
        "\n",
        "#Model definition\n",
        "def build_ImprovedCNN():\n",
        "    model = Sequential([\n",
        "        Conv2D(64, (3, 3), activation='relu', padding='same', input_shape=(224, 224, 3)),\n",
        "        BatchNormalization(),\n",
        "        MaxPooling2D(pool_size=(2, 2)),\n",
        "        Dropout(0.25),\n",
        "\n",
        "        Conv2D(128, (3, 3), activation='relu', padding='same'),\n",
        "        BatchNormalization(),\n",
        "        MaxPooling2D(pool_size=(2, 2)),\n",
        "        Dropout(0.3),\n",
        "\n",
        "        Conv2D(256, (3, 3), activation='relu', padding='same'),\n",
        "        BatchNormalization(),\n",
        "        MaxPooling2D(pool_size=(2, 2)),\n",
        "        Dropout(0.4),\n",
        "\n",
        "        Conv2D(512, (3, 3), activation='relu', padding='same'),\n",
        "        BatchNormalization(),\n",
        "        MaxPooling2D(pool_size=(2, 2)),\n",
        "        Dropout(0.4),\n",
        "\n",
        "        GlobalAveragePooling2D(),\n",
        "\n",
        "        Dense(256, activation='relu'),\n",
        "        BatchNormalization(),\n",
        "        Dropout(0.5),\n",
        "\n",
        "        Dense(128, activation='relu'),\n",
        "        BatchNormalization(),\n",
        "        Dropout(0.3),\n",
        "\n",
        "        Dense(2, activation='softmax')  #Only 2 classes: AMD and Normal_Fundus\n",
        "    ])\n",
        "    model.compile(optimizer='adam', loss='sparse_categorical_crossentropy', metrics=['accuracy'])\n",
        "    return model\n",
        "\n",
        "#Callbacks\n",
        "callbacks = [\n",
        "    ModelCheckpoint(\"best_model_rgb.keras\", save_best_only=True, monitor='val_accuracy', mode='max')\n",
        "]\n",
        "\n",
        "#Build and train model\n",
        "model = build_ImprovedCNN()\n",
        "#model.summary()\n",
        "\n",
        "model.fit(\n",
        "    train_generator,\n",
        "    validation_data=val_generator,\n",
        "    epochs=10,\n",
        "    callbacks=callbacks\n",
        ")\n",
        "\n",
        "#Evaluate\n",
        "loss, accuracy = model.evaluate(val_generator)\n",
        "print(f\"Validation Accuracy: {accuracy * 100:.2f}%\")\n"
      ]
    },
    {
      "cell_type": "code",
      "execution_count": 4,
      "metadata": {
        "id": "_l71lN3-tzz1"
      },
      "outputs": [],
      "source": [
        "model.save('/content/Cataract.keras')"
      ]
    }
  ],
  "metadata": {
    "accelerator": "GPU",
    "colab": {
      "gpuType": "T4",
      "provenance": []
    },
    "kernelspec": {
      "display_name": "Python 3",
      "name": "python3"
    },
    "language_info": {
      "name": "python"
    }
  },
  "nbformat": 4,
  "nbformat_minor": 0
}
